{
 "cells": [
  {
   "cell_type": "markdown",
   "metadata": {},
   "source": [
    "'''for index, i in data.iterrows():\n",
    "    \n",
    "    room=i['Cabin']\n",
    "    print(index, room)\n",
    "    if not pd.isnull(room):  \n",
    "        data.at[index, 'Deck']=room[0]\n",
    "data=data.drop(['Cabin'], axis=1)'''"
   ]
  },
  {
   "cell_type": "markdown",
   "metadata": {},
   "source": [
    "PRE-PROCESSING"
   ]
  },
  {
   "cell_type": "code",
   "execution_count": 44,
   "metadata": {},
   "outputs": [
    {
     "name": "stdout",
     "output_type": "stream",
     "text": [
      "  Vuosineljännes                                        Postinumero Huoneluku  \\\n",
      "0         2015Q1  00100 Helsinki Keskusta - Etu-Töölö   (Helsinki )    Yksiöt   \n",
      "1         2015Q1  00100 Helsinki Keskusta - Etu-Töölö   (Helsinki )   Kaksiot   \n",
      "2         2015Q1  00100 Helsinki Keskusta - Etu-Töölö   (Helsinki )  Kolmiot+   \n",
      "3         2015Q1                      00120 Punavuori   (Helsinki )    Yksiöt   \n",
      "4         2015Q1                      00120 Punavuori   (Helsinki )   Kaksiot   \n",
      "\n",
      "  Lukumäärä Neliövuokra (eur/m2)  \n",
      "0       452                24.26  \n",
      "1       243                18.36  \n",
      "2        34                13.09  \n",
      "3        95                21.52  \n",
      "4        52                14.77  \n",
      "(58548, 5)\n"
     ]
    },
    {
     "name": "stderr",
     "output_type": "stream",
     "text": [
      "C:\\Users\\tarmo\\AppData\\Local\\Temp\\ipykernel_9372\\4044347142.py:33: FutureWarning: Setting an item of incompatible dtype is deprecated and will raise in a future error of pandas. Value '00100' has dtype incompatible with int64, please explicitly cast to a compatible dtype first.\n",
      "  data.at[index, 'Posti']= post\n",
      "C:\\Users\\tarmo\\AppData\\Local\\Temp\\ipykernel_9372\\4044347142.py:34: FutureWarning: Setting an item of incompatible dtype is deprecated and will raise in a future error of pandas. Value 'HelsinkiKeskusta-Etu-Töölö' has dtype incompatible with int64, please explicitly cast to a compatible dtype first.\n",
      "  data.at[index, 'Kaupungin_osa']= paikka\n",
      "C:\\Users\\tarmo\\AppData\\Local\\Temp\\ipykernel_9372\\4044347142.py:35: FutureWarning: Setting an item of incompatible dtype is deprecated and will raise in a future error of pandas. Value 'Helsinki' has dtype incompatible with int64, please explicitly cast to a compatible dtype first.\n",
      "  data.at[index, 'Kaupunki']= kaupunki\n"
     ]
    },
    {
     "name": "stdout",
     "output_type": "stream",
     "text": [
      "  Vuosineljännes Huoneluku Lukumäärä Neliövuokra (eur/m2)  Posti  \\\n",
      "0         2015Q1    Yksiöt       452                24.26  00100   \n",
      "1         2015Q1   Kaksiot       243                18.36  00100   \n",
      "2         2015Q1  Kolmiot+        34                13.09  00100   \n",
      "\n",
      "                Kaupungin_osa  Kaupunki  \n",
      "0  HelsinkiKeskusta-Etu-Töölö  Helsinki  \n",
      "1  HelsinkiKeskusta-Etu-Töölö  Helsinki  \n",
      "2  HelsinkiKeskusta-Etu-Töölö  Helsinki  \n"
     ]
    }
   ],
   "source": [
    "import pandas as pd\n",
    "import numpy as np\n",
    "import re\n",
    "data=pd.read_csv('Rents.csv', sep=',', encoding='iso8859_4')\n",
    "print(data.head(5))\n",
    "print(data.shape)\n",
    "nums=[0]*58548\n",
    "data['Posti']=nums\n",
    "data['Kaupungin_osa']=nums\n",
    "data['Kaupunki']=nums\n",
    "\n",
    "\n",
    "for index, row in data.iterrows():\n",
    "    full=row['Postinumero']\n",
    "    post=full[0:6]\n",
    "    full=full[6:]\n",
    "    i=0\n",
    "    for chr in full:\n",
    "        \n",
    "        if chr=='(':\n",
    "            paikka=full[0:i]\n",
    "            kaupunki=full[i+1:-1]\n",
    "            break\n",
    "        i+=1   \n",
    "    post = re.sub(r'\\s', '', post)\n",
    "    kaupunki = re.sub(r'\\s', '', kaupunki)\n",
    "    paikka = re.sub(r'\\s', '', paikka)\n",
    "    if row['Neliövuokra (eur/m2)'] == \".\":\n",
    "        data.at[index, 'Neliövuokra (eur/m2)']= np.nan\n",
    "    else:\n",
    "        data.at[index, 'Neliövuokra (eur/m2)']= float(row['Neliövuokra (eur/m2)'])\n",
    "    \n",
    "    data.at[index, 'Posti']= post\n",
    "    data.at[index, 'Kaupungin_osa']= paikka\n",
    "    data.at[index, 'Kaupunki']= kaupunki \n",
    "    #print(post, paikka, kaupunki, \"je\")\n",
    "data=data.drop(['Postinumero'], axis=1)\n",
    "remainers = ['Helsinki', 'Vantaa', 'Espoo', 'Turku', 'Tampere']\n",
    "data=data.where(data['Kaupunki'].isin(remainers)).dropna(subset=['Kaupunki'])\n",
    "data['Neliövuokra (eur/m2)']=data['Neliövuokra (eur/m2)'].astype(float)\n",
    "print(data.head(3))\n"
   ]
  },
  {
   "cell_type": "code",
   "execution_count": 1,
   "metadata": {},
   "outputs": [
    {
     "ename": "NameError",
     "evalue": "name 'pd' is not defined",
     "output_type": "error",
     "traceback": [
      "\u001b[0;31m---------------------------------------------------------------------------\u001b[0m",
      "\u001b[0;31mNameError\u001b[0m                                 Traceback (most recent call last)",
      "\u001b[1;32m/home/kokatte/Documents/IDC/datascience_project_housing_investment/proju.ipynb Cell 4\u001b[0m line \u001b[0;36m3\n\u001b[1;32m      <a href='vscode-notebook-cell:/home/kokatte/Documents/IDC/datascience_project_housing_investment/proju.ipynb#W3sZmlsZQ%3D%3D?line=0'>1</a>\u001b[0m huoneet\u001b[39m=\u001b[39m[\u001b[39m'\u001b[39m\u001b[39mYksiöt\u001b[39m\u001b[39m'\u001b[39m, \u001b[39m'\u001b[39m\u001b[39mKaksiot\u001b[39m\u001b[39m'\u001b[39m, \u001b[39m'\u001b[39m\u001b[39mKolmiot+\u001b[39m\u001b[39m'\u001b[39m]\n\u001b[1;32m      <a href='vscode-notebook-cell:/home/kokatte/Documents/IDC/datascience_project_housing_investment/proju.ipynb#W3sZmlsZQ%3D%3D?line=1'>2</a>\u001b[0m setit\u001b[39m=\u001b[39m\u001b[39mset\u001b[39m()\n\u001b[0;32m----> <a href='vscode-notebook-cell:/home/kokatte/Documents/IDC/datascience_project_housing_investment/proju.ipynb#W3sZmlsZQ%3D%3D?line=2'>3</a>\u001b[0m uutuus \u001b[39m=\u001b[39m pd\u001b[39m.\u001b[39mDataFrame()\u001b[39m.\u001b[39mreindex_like(data)\n\u001b[1;32m      <a href='vscode-notebook-cell:/home/kokatte/Documents/IDC/datascience_project_housing_investment/proju.ipynb#W3sZmlsZQ%3D%3D?line=3'>4</a>\u001b[0m \u001b[39m#print(uutuus.head())\u001b[39;00m\n\u001b[1;32m      <a href='vscode-notebook-cell:/home/kokatte/Documents/IDC/datascience_project_housing_investment/proju.ipynb#W3sZmlsZQ%3D%3D?line=4'>5</a>\u001b[0m i \u001b[39m=\u001b[39m\u001b[39m0\u001b[39m\n",
      "\u001b[0;31mNameError\u001b[0m: name 'pd' is not defined"
     ]
    }
   ],
   "source": [
    "huoneet=['Yksiöt', 'Kaksiot', 'Kolmiot+']\n",
    "setit=set()\n",
    "uutuus = pd.DataFrame().reindex_like(data)\n",
    "#print(uutuus.head())\n",
    "i =0\n",
    "print('asd')\n",
    "for index, row in data.iterrows():\n",
    "    post=row['Posti']\n",
    "    #print(post)\n",
    "    if post not in setit:\n",
    "        setit.add(post)\n",
    "        for huone in huoneet:\n",
    "            pala=data.loc[(data['Huoneluku']==huone)& (data['Posti']==post)]\n",
    "            #print(pala.head(5))\n",
    "            pala['Neliövuokra (eur/m2)']=pala['Neliövuokra (eur/m2)'].ffill()\n",
    "            #print(pala.head(5))\n",
    "            for ind, row in pala.iterrows():\n",
    "                uutuus.loc[i]=row\n",
    "                i+=1\n",
    "uustuus=uutuus.dropna(subset=['Kaupunki'])                \n",
    "print(uutuus.head(5))"
   ]
  },
  {
   "cell_type": "markdown",
   "metadata": {},
   "source": [
    "ARIMA"
   ]
  },
  {
   "cell_type": "code",
   "execution_count": null,
   "metadata": {},
   "outputs": [],
   "source": [
    "py=[1]"
   ]
  }
 ],
 "metadata": {
  "kernelspec": {
   "display_name": "Python 3",
   "language": "python",
   "name": "python3"
  },
  "language_info": {
   "codemirror_mode": {
    "name": "ipython",
    "version": 3
   },
   "file_extension": ".py",
   "mimetype": "text/x-python",
   "name": "python",
   "nbconvert_exporter": "python",
   "pygments_lexer": "ipython3",
   "version": "3.10.12"
  },
  "orig_nbformat": 4
 },
 "nbformat": 4,
 "nbformat_minor": 2
}
